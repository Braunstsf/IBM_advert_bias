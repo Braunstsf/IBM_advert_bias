{
 "cells": [
  {
   "cell_type": "markdown",
   "id": "1907dc75",
   "metadata": {},
   "source": [
    "# IBM Advertising Bias"
   ]
  },
  {
   "cell_type": "code",
   "execution_count": 1,
   "id": "445d26f9",
   "metadata": {},
   "outputs": [],
   "source": [
    "import pandas as pd\n",
    "import numpy as np \n",
    "import seaborn as sns \n",
    "import matplotlib.pyplot as plt \n",
    "bias_table = pd.read_csv(\"new_table.csv\")"
   ]
  },
  {
   "cell_type": "code",
   "execution_count": 2,
   "id": "0b231c94",
   "metadata": {},
   "outputs": [
    {
     "name": "stdout",
     "output_type": "stream",
     "text": [
      "   college_educated  homeowner gender    age income  true_conversion  \\\n",
      "0                 1          1      F  55-64  <100K                0   \n",
      "1                 1          1      F  55-64  >100K                0   \n",
      "2                 1          1      F  55-64  <100K                0   \n",
      "3                 1          1      F  55-64  >100K                0   \n",
      "4                 1          1      F  55-64  <100K                0   \n",
      "\n",
      "   predicted_conversion  predicted_probability  \n",
      "0                     0               0.002120  \n",
      "1                     0               0.001710  \n",
      "2                     0               0.008420  \n",
      "3                     0               0.004488  \n",
      "4                     0               0.001874  \n"
     ]
    }
   ],
   "source": [
    "print(bias_table.head())"
   ]
  },
  {
   "cell_type": "code",
   "execution_count": 3,
   "id": "066ce3ea",
   "metadata": {},
   "outputs": [],
   "source": [
    "bias_table = bias_table[bias_table['age'] != \"Unknown\"]"
   ]
  },
  {
   "cell_type": "code",
   "execution_count": 4,
   "id": "2ae65bab",
   "metadata": {},
   "outputs": [
    {
     "data": {
      "text/plain": [
       "2390"
      ]
     },
     "execution_count": 4,
     "metadata": {},
     "output_type": "execute_result"
    }
   ],
   "source": [
    "len(bias_table)"
   ]
  },
  {
   "cell_type": "code",
   "execution_count": 5,
   "id": "5f116f5b",
   "metadata": {},
   "outputs": [
    {
     "data": {
      "text/plain": [
       "2390"
      ]
     },
     "execution_count": 5,
     "metadata": {},
     "output_type": "execute_result"
    }
   ],
   "source": [
    "type(bias_table)\n",
    "len(bias_table)"
   ]
  },
  {
   "cell_type": "code",
   "execution_count": 6,
   "id": "b189800d",
   "metadata": {},
   "outputs": [],
   "source": [
    "bias_table.to_csv('removed_unknowns.csv', encoding='utf-8')"
   ]
  },
  {
   "cell_type": "code",
   "execution_count": 7,
   "id": "eca5e827",
   "metadata": {},
   "outputs": [],
   "source": [
    "from sklearn.metrics import confusion_matrix"
   ]
  },
  {
   "cell_type": "code",
   "execution_count": 8,
   "id": "6dc84a9d",
   "metadata": {},
   "outputs": [
    {
     "data": {
      "text/plain": [
       "array([[2381,    3],\n",
       "       [   5,    1]])"
      ]
     },
     "execution_count": 8,
     "metadata": {},
     "output_type": "execute_result"
    }
   ],
   "source": [
    "confusion_matrix(bias_table['true_conversion'],bias_table['predicted_conversion'])"
   ]
  },
  {
   "cell_type": "markdown",
   "id": "4911d7cb",
   "metadata": {},
   "source": [
    "The top row is true positive, false positive and the bottom is false negative, true negative. "
   ]
  },
  {
   "cell_type": "markdown",
   "id": "44f762ff",
   "metadata": {},
   "source": [
    "Trying to get a list of all the instances where \"predicted_conversion\" and \"true_conversion\" in the dataframe bias_table are not equal to each other. "
   ]
  },
  {
   "cell_type": "code",
   "execution_count": 9,
   "id": "f5d251ab",
   "metadata": {},
   "outputs": [],
   "source": [
    "df_false_positive = bias_table[(bias_table['predicted_conversion'] == 1)&(bias_table['true_conversion']==0)]\n",
    "df_false_negative = bias_table[(bias_table['predicted_conversion'] == 0)&(bias_table['true_conversion']==1)]\n"
   ]
  },
  {
   "cell_type": "code",
   "execution_count": 10,
   "id": "970832bb",
   "metadata": {},
   "outputs": [],
   "source": [
    "outliers = pd.concat([df_false_positive, df_false_negative])"
   ]
  },
  {
   "cell_type": "code",
   "execution_count": 11,
   "id": "ae3403e3",
   "metadata": {},
   "outputs": [
    {
     "name": "stdout",
     "output_type": "stream",
     "text": [
      "      college_educated  homeowner gender    age income  true_conversion  \\\n",
      "228                  1          0      F  55-64  >100K                0   \n",
      "759                  1          1      M  55-64  <100K                0   \n",
      "1080                 1          0      F  55-64  <100K                0   \n",
      "748                  1          1      M  55-64  <100K                1   \n",
      "1277                 1          0      M  55-64  >100K                1   \n",
      "1844                 1          0      M  55-64  <100K                1   \n",
      "2280                 1          1      F  55-64  >100K                1   \n",
      "2332                 1          0      F  55-64  <100K                1   \n",
      "\n",
      "      predicted_conversion  predicted_probability  \n",
      "228                      1               0.421186  \n",
      "759                      1               0.583358  \n",
      "1080                     1               0.365767  \n",
      "748                      0               0.006888  \n",
      "1277                     0               0.002424  \n",
      "1844                     0               0.006594  \n",
      "2280                     0               0.003530  \n",
      "2332                     0               0.003188  \n"
     ]
    }
   ],
   "source": [
    "print(outliers)"
   ]
  },
  {
   "cell_type": "code",
   "execution_count": 12,
   "id": "404586e0",
   "metadata": {},
   "outputs": [
    {
     "data": {
      "text/plain": [
       "8"
      ]
     },
     "execution_count": 12,
     "metadata": {},
     "output_type": "execute_result"
    }
   ],
   "source": [
    "len(outliers)"
   ]
  },
  {
   "cell_type": "markdown",
   "id": "61652620",
   "metadata": {},
   "source": [
    "## Kernel Density Estimate for Predicted Probability and Predicted Conversion"
   ]
  },
  {
   "cell_type": "code",
   "execution_count": 13,
   "id": "f1ac7109",
   "metadata": {},
   "outputs": [],
   "source": [
    "predicted_converted = bias_table[bias_table['predicted_conversion'] == 1]\n",
    "predicted_nonconverted = bias_table[bias_table['predicted_conversion'] == 0]\n"
   ]
  },
  {
   "cell_type": "code",
   "execution_count": 14,
   "id": "4c480d5e",
   "metadata": {},
   "outputs": [
    {
     "data": {
      "image/png": "[encoded data removed]",
      "text/plain": [
       "<Figure size 432x288 with 1 Axes>"
      ]
     },
     "metadata": {
      "needs_background": "light"
     },
     "output_type": "display_data"
    }
   ],
   "source": [
    "prediction_prob_convert = list(predicted_converted['predicted_probability'])\n",
    "ax = sns.kdeplot(data=prediction_prob_convert, color=\"blue\")\n",
    "ax.set(xlabel='Predicted Probability', ylabel='Density', title=\"Kernel Density Estimate Plot of Predicted Conversions\")\n",
    "plt.show()"
   ]
  },
  {
   "cell_type": "code",
   "execution_count": 15,
   "id": "3a9d8ae6",
   "metadata": {},
   "outputs": [
    {
     "data": {
      "image/png": "[encoded data removed]",
      "text/plain": [
       "<Figure size 432x288 with 1 Axes>"
      ]
     },
     "metadata": {
      "needs_background": "light"
     },
     "output_type": "display_data"
    }
   ],
   "source": [
    "prediction_prob_nonconvert = list(predicted_nonconverted['predicted_probability'])\n",
    "ax = sns.kdeplot(data=prediction_prob_nonconvert, color=\"blue\")\n",
    "ax.set(xlabel='Predicted Probability', ylabel='Density', title=\"Kernel Density Estimate Plot of Predicted Non-Conversions\")\n",
    "plt.show()"
   ]
  },
  {
   "cell_type": "markdown",
   "id": "3c7ac658",
   "metadata": {},
   "source": [
    "## Kernel Density Estimate for Predicted Probability and True Conversion"
   ]
  },
  {
   "cell_type": "code",
   "execution_count": 16,
   "id": "31c018a1",
   "metadata": {},
   "outputs": [
    {
     "data": {
      "text/plain": [
       "2384"
      ]
     },
     "execution_count": 16,
     "metadata": {},
     "output_type": "execute_result"
    }
   ],
   "source": [
    "true_converted = bias_table[bias_table['true_conversion'] == 1]\n",
    "true_nonconverted = bias_table[bias_table['true_conversion'] == 0]\n",
    "len(true_converted)\n",
    "len(true_nonconverted)"
   ]
  },
  {
   "cell_type": "code",
   "execution_count": 17,
   "id": "6bd32d91",
   "metadata": {},
   "outputs": [
    {
     "data": {
      "image/png": "[encoded data removed]",
      "text/plain": [
       "<Figure size 432x288 with 1 Axes>"
      ]
     },
     "metadata": {
      "needs_background": "light"
     },
     "output_type": "display_data"
    }
   ],
   "source": [
    "prediction_prob_trueconvert = list(true_converted['predicted_probability'])\n",
    "ax = sns.kdeplot(data=prediction_prob_trueconvert, color=\"blue\")\n",
    "ax.set(xlabel='Predicted Probability', ylabel='Density', title=\"Kernel Density Estimate Plot of True Conversions\")\n",
    "plt.show()"
   ]
  },
  {
   "cell_type": "code",
   "execution_count": 18,
   "id": "9c78d99a",
   "metadata": {},
   "outputs": [
    {
     "data": {
      "image/png": "[encoded data removed]",
      "text/plain": [
       "<Figure size 432x288 with 1 Axes>"
      ]
     },
     "metadata": {
      "needs_background": "light"
     },
     "output_type": "display_data"
    }
   ],
   "source": [
    "prediction_prob_truenonconvert = list(true_nonconverted['predicted_probability'])\n",
    "ax = sns.kdeplot(data=prediction_prob_truenonconvert, color=\"blue\")\n",
    "ax.set(xlabel='Predicted Probability', ylabel='Density', title=\"Kernel Density Estimate Plot of True Non-Conversions\")\n",
    "plt.show()"
   ]
  },
  {
   "cell_type": "markdown",
   "id": "38816d12",
   "metadata": {},
   "source": [
    "## Feature Importance"
   ]
  },
  {
   "cell_type": "markdown",
   "id": "2c88f063",
   "metadata": {},
   "source": [
    "advert_data = bias_table.drop(['predicted_probability'], axis=1)\n",
    "predicted_prob = bias_table['predicted_probability']"
   ]
  },
  {
   "cell_type": "markdown",
   "id": "44189388",
   "metadata": {},
   "source": [
    "import numpy as np\n",
    "import pandas as pd\n",
    "#from sklearn.datasets import load_boston\n",
    "from sklearn.model_selection import train_test_split\n",
    "from sklearn.ensemble import RandomForestRegressor\n",
    "from sklearn.inspection import permutation_importance\n",
    "from matplotlib import pyplot as plt"
   ]
  },
  {
   "cell_type": "markdown",
   "id": "9f9924ac",
   "metadata": {},
   "source": [
    "advert_data_train, advert_data_test, predicted_prob_train, predicted_prob_test = train_test_split(advert_data, predicted_prob, test_size=0.25, random_state=np.random.seed())"
   ]
  },
  {
   "cell_type": "code",
   "execution_count": 19,
   "id": "1864e017",
   "metadata": {},
   "outputs": [
    {
     "data": {
      "text/plain": [
       "pandas.core.frame.DataFrame"
      ]
     },
     "execution_count": 19,
     "metadata": {},
     "output_type": "execute_result"
    }
   ],
   "source": [
    "type(bias_table)"
   ]
  },
  {
   "cell_type": "markdown",
   "id": "b062d021",
   "metadata": {},
   "source": [
    " .dtype()"
   ]
  },
  {
   "cell_type": "markdown",
   "id": "f9138b64",
   "metadata": {},
   "source": [
    "ValueError was raised due to multiple data formats in bias_table. "
   ]
  },
  {
   "cell_type": "markdown",
   "id": "30b700f4",
   "metadata": {},
   "source": [
    "rf = RandomForestRegressor(n_estimators=150)\n",
    "rf.fit(advert_data_train, predicted_prob_train)"
   ]
  },
  {
   "cell_type": "code",
   "execution_count": 20,
   "id": "0412a0fb",
   "metadata": {},
   "outputs": [
    {
     "data": {
      "text/plain": [
       "college_educated           int64\n",
       "homeowner                  int64\n",
       "gender                    object\n",
       "age                       object\n",
       "income                    object\n",
       "true_conversion            int64\n",
       "predicted_conversion       int64\n",
       "predicted_probability    float64\n",
       "dtype: object"
      ]
     },
     "execution_count": 20,
     "metadata": {},
     "output_type": "execute_result"
    }
   ],
   "source": [
    "bias_table.dtypes"
   ]
  },
  {
   "cell_type": "code",
   "execution_count": 21,
   "id": "2e4f8085",
   "metadata": {},
   "outputs": [
    {
     "data": {
      "text/plain": [
       "55-64    2311\n",
       "45-54      39\n",
       "25-34      37\n",
       "18-24       3\n",
       "Name: age, dtype: int64"
      ]
     },
     "execution_count": 21,
     "metadata": {},
     "output_type": "execute_result"
    }
   ],
   "source": [
    "bias_table['age'].value_counts()"
   ]
  },
  {
   "cell_type": "code",
   "execution_count": 22,
   "id": "682bc487",
   "metadata": {},
   "outputs": [
    {
     "data": {
      "text/plain": [
       "<100K    1215\n",
       ">100K    1175\n",
       "Name: income, dtype: int64"
      ]
     },
     "execution_count": 22,
     "metadata": {},
     "output_type": "execute_result"
    }
   ],
   "source": [
    "bias_table['income'].value_counts()"
   ]
  },
  {
   "cell_type": "code",
   "execution_count": 23,
   "id": "cda725b1",
   "metadata": {},
   "outputs": [
    {
     "data": {
      "text/plain": [
       "F    1552\n",
       "M     838\n",
       "Name: gender, dtype: int64"
      ]
     },
     "execution_count": 23,
     "metadata": {},
     "output_type": "execute_result"
    }
   ],
   "source": [
    "bias_table['gender'].value_counts()"
   ]
  },
  {
   "cell_type": "markdown",
   "id": "917391b4",
   "metadata": {},
   "source": [
    "In order to move past the ValueError, we will be converting the objects in the columns: age, income, and gender, into the following integers. "
   ]
  },
  {
   "cell_type": "markdown",
   "id": "e4c0208d",
   "metadata": {},
   "source": [
    "For age, 0 will be assigned to 18-24, 1 to 25-34, 2 to 45-54, 3 to 55-64. \n",
    "\n",
    "For income, <100K will be assigned to 0 and >100K to 1.\n",
    "\n",
    "For gender, F will be assigned to 0 and M to 1. "
   ]
  },
  {
   "cell_type": "code",
   "execution_count": 24,
   "id": "00efbc4f",
   "metadata": {},
   "outputs": [],
   "source": [
    "bias_table['age'] = bias_table['age'].replace(['18-24', '25-34', '45-54', '55-64'], [0, 1, 2, 3])"
   ]
  },
  {
   "cell_type": "code",
   "execution_count": 25,
   "id": "37d37c5e",
   "metadata": {},
   "outputs": [
    {
     "data": {
      "text/plain": [
       "college_educated           int64\n",
       "homeowner                  int64\n",
       "gender                    object\n",
       "age                        int64\n",
       "income                    object\n",
       "true_conversion            int64\n",
       "predicted_conversion       int64\n",
       "predicted_probability    float64\n",
       "dtype: object"
      ]
     },
     "execution_count": 25,
     "metadata": {},
     "output_type": "execute_result"
    }
   ],
   "source": [
    "bias_table.dtypes"
   ]
  },
  {
   "cell_type": "code",
   "execution_count": 26,
   "id": "bcf9b625",
   "metadata": {},
   "outputs": [],
   "source": [
    "bias_table['gender'] = bias_table['gender'].replace(['F', 'M'], [0, 1])"
   ]
  },
  {
   "cell_type": "code",
   "execution_count": 27,
   "id": "2e0894e5",
   "metadata": {},
   "outputs": [],
   "source": [
    "bias_table['income'] = bias_table['income'].replace(['<100K', '>100K'], [0, 1])"
   ]
  },
  {
   "cell_type": "code",
   "execution_count": 28,
   "id": "ddfffd79",
   "metadata": {},
   "outputs": [
    {
     "data": {
      "text/html": [
       "<div>\n",
       "<style scoped>\n",
       "    .dataframe tbody tr th:only-of-type {\n",
       "        vertical-align: middle;\n",
       "    }\n",
       "\n",
       "    .dataframe tbody tr th {\n",
       "        vertical-align: top;\n",
       "    }\n",
       "\n",
       "    .dataframe thead th {\n",
       "        text-align: right;\n",
       "    }\n",
       "</style>\n",
       "<table border=\"1\" class=\"dataframe\">\n",
       "  <thead>\n",
       "    <tr style=\"text-align: right;\">\n",
       "      <th></th>\n",
       "      <th>college_educated</th>\n",
       "      <th>homeowner</th>\n",
       "      <th>gender</th>\n",
       "      <th>age</th>\n",
       "      <th>income</th>\n",
       "      <th>true_conversion</th>\n",
       "      <th>predicted_conversion</th>\n",
       "      <th>predicted_probability</th>\n",
       "    </tr>\n",
       "  </thead>\n",
       "  <tbody>\n",
       "    <tr>\n",
       "      <th>0</th>\n",
       "      <td>1</td>\n",
       "      <td>1</td>\n",
       "      <td>0</td>\n",
       "      <td>3</td>\n",
       "      <td>0</td>\n",
       "      <td>0</td>\n",
       "      <td>0</td>\n",
       "      <td>0.002120</td>\n",
       "    </tr>\n",
       "    <tr>\n",
       "      <th>1</th>\n",
       "      <td>1</td>\n",
       "      <td>1</td>\n",
       "      <td>0</td>\n",
       "      <td>3</td>\n",
       "      <td>1</td>\n",
       "      <td>0</td>\n",
       "      <td>0</td>\n",
       "      <td>0.001710</td>\n",
       "    </tr>\n",
       "    <tr>\n",
       "      <th>2</th>\n",
       "      <td>1</td>\n",
       "      <td>1</td>\n",
       "      <td>0</td>\n",
       "      <td>3</td>\n",
       "      <td>0</td>\n",
       "      <td>0</td>\n",
       "      <td>0</td>\n",
       "      <td>0.008420</td>\n",
       "    </tr>\n",
       "    <tr>\n",
       "      <th>3</th>\n",
       "      <td>1</td>\n",
       "      <td>1</td>\n",
       "      <td>0</td>\n",
       "      <td>3</td>\n",
       "      <td>1</td>\n",
       "      <td>0</td>\n",
       "      <td>0</td>\n",
       "      <td>0.004488</td>\n",
       "    </tr>\n",
       "    <tr>\n",
       "      <th>4</th>\n",
       "      <td>1</td>\n",
       "      <td>1</td>\n",
       "      <td>0</td>\n",
       "      <td>3</td>\n",
       "      <td>0</td>\n",
       "      <td>0</td>\n",
       "      <td>0</td>\n",
       "      <td>0.001874</td>\n",
       "    </tr>\n",
       "  </tbody>\n",
       "</table>\n",
       "</div>"
      ],
      "text/plain": [
       "   college_educated  homeowner  gender  age  income  true_conversion  \\\n",
       "0                 1          1       0    3       0                0   \n",
       "1                 1          1       0    3       1                0   \n",
       "2                 1          1       0    3       0                0   \n",
       "3                 1          1       0    3       1                0   \n",
       "4                 1          1       0    3       0                0   \n",
       "\n",
       "   predicted_conversion  predicted_probability  \n",
       "0                     0               0.002120  \n",
       "1                     0               0.001710  \n",
       "2                     0               0.008420  \n",
       "3                     0               0.004488  \n",
       "4                     0               0.001874  "
      ]
     },
     "execution_count": 28,
     "metadata": {},
     "output_type": "execute_result"
    }
   ],
   "source": [
    "bias_table.head()"
   ]
  },
  {
   "cell_type": "code",
   "execution_count": 29,
   "id": "fe05a3d9",
   "metadata": {},
   "outputs": [],
   "source": [
    "advert_data = bias_table.drop(['predicted_probability', 'predicted_conversion', 'true_conversion'], axis=1)\n",
    "predicted_prob = bias_table['predicted_probability']"
   ]
  },
  {
   "cell_type": "code",
   "execution_count": 30,
   "id": "18a5daf1",
   "metadata": {},
   "outputs": [],
   "source": [
    "#from sklearn.datasets import load_boston\n",
    "from sklearn.model_selection import train_test_split\n",
    "from sklearn.ensemble import RandomForestRegressor\n",
    "from sklearn.inspection import permutation_importance\n",
    "from matplotlib import pyplot as plt"
   ]
  },
  {
   "cell_type": "code",
   "execution_count": 31,
   "id": "22a81d7d",
   "metadata": {},
   "outputs": [],
   "source": [
    "advert_data_train, advert_data_test, predicted_prob_train, predicted_prob_test = train_test_split(advert_data, predicted_prob, test_size=0.25, random_state=np.random.seed())"
   ]
  },
  {
   "cell_type": "code",
   "execution_count": 32,
   "id": "453b9287",
   "metadata": {},
   "outputs": [
    {
     "data": {
      "text/plain": [
       "RandomForestRegressor(n_estimators=150)"
      ]
     },
     "execution_count": 32,
     "metadata": {},
     "output_type": "execute_result"
    }
   ],
   "source": [
    "rf = RandomForestRegressor(n_estimators=150)\n",
    "rf.fit(advert_data_train, predicted_prob_train)"
   ]
  },
  {
   "cell_type": "code",
   "execution_count": 33,
   "id": "90203906",
   "metadata": {},
   "outputs": [
    {
     "data": {
      "text/plain": [
       "Text(0.5, 0, 'Feature Importance')"
      ]
     },
     "execution_count": 33,
     "metadata": {},
     "output_type": "execute_result"
    },
    {
     "data": {
      "image/png": "[encoded data removed]",
      "text/plain": [
       "<Figure size 432x288 with 1 Axes>"
      ]
     },
     "metadata": {
      "needs_background": "light"
     },
     "output_type": "display_data"
    }
   ],
   "source": [
    "sort = rf.feature_importances_.argsort()\n",
    "plt.barh(bias_table.columns[sort], rf.feature_importances_[sort])\n",
    "plt.xlabel(\"Feature Importance\")"
   ]
  },
  {
   "cell_type": "markdown",
   "id": "e1441136",
   "metadata": {},
   "source": [
    "## Showing Distributions for Age, Gender, College Educated, Income, and Home Ownership"
   ]
  },
  {
   "cell_type": "code",
   "execution_count": 34,
   "id": "86c85b74",
   "metadata": {},
   "outputs": [
    {
     "data": {
      "text/plain": [
       "Int64Index([3, 2, 1, 0], dtype='int64')"
      ]
     },
     "execution_count": 34,
     "metadata": {},
     "output_type": "execute_result"
    }
   ],
   "source": [
    "dist_age = bias_table['age'].value_counts()\n",
    "dist_age.index"
   ]
  },
  {
   "cell_type": "code",
   "execution_count": 35,
   "id": "d6119277",
   "metadata": {},
   "outputs": [
    {
     "name": "stdout",
     "output_type": "stream",
     "text": [
      "55-64    2311\n",
      "45-54      39\n",
      "25-34      37\n",
      "18-24       3\n",
      "Name: age, dtype: int64\n"
     ]
    }
   ],
   "source": [
    "dist_age = dist_age.rename({0: '18-24', 1: '25-34', 2: '45-54', 3: '55-64'})\n",
    "print(dist_age)"
   ]
  },
  {
   "cell_type": "code",
   "execution_count": 36,
   "id": "321f3bc1",
   "metadata": {},
   "outputs": [
    {
     "name": "stdout",
     "output_type": "stream",
     "text": [
      "Females    1552\n",
      "Males       838\n",
      "Name: gender, dtype: int64\n"
     ]
    }
   ],
   "source": [
    "dist_gender = bias_table['gender'].value_counts()\n",
    "dist_gender.index\n",
    "dist_gender = dist_gender.rename({0: 'Females', 1: 'Males'})\n",
    "print(dist_gender)"
   ]
  },
  {
   "cell_type": "code",
   "execution_count": 37,
   "id": "b99671e8",
   "metadata": {},
   "outputs": [
    {
     "name": "stdout",
     "output_type": "stream",
     "text": [
      "Yes    2268\n",
      "No      122\n",
      "Name: college_educated, dtype: int64\n"
     ]
    }
   ],
   "source": [
    "dist_college = bias_table['college_educated'].value_counts()\n",
    "dist_college.index\n",
    "dist_college = dist_college.rename({0: 'No', 1: 'Yes'})\n",
    "print(dist_college)"
   ]
  },
  {
   "cell_type": "code",
   "execution_count": 38,
   "id": "f063d1c2",
   "metadata": {},
   "outputs": [
    {
     "name": "stdout",
     "output_type": "stream",
     "text": [
      "Under 100K    1215\n",
      "Over 100K     1175\n",
      "Name: income, dtype: int64\n"
     ]
    }
   ],
   "source": [
    "dist_income = bias_table['income'].value_counts()\n",
    "dist_income.index\n",
    "dist_income = dist_income.rename({0: 'Under 100K', 1: 'Over 100K'})\n",
    "print(dist_income)"
   ]
  },
  {
   "cell_type": "code",
   "execution_count": 39,
   "id": "5fb1b7ea",
   "metadata": {},
   "outputs": [
    {
     "name": "stdout",
     "output_type": "stream",
     "text": [
      "Yes    2058\n",
      "No      332\n",
      "Name: homeowner, dtype: int64\n"
     ]
    }
   ],
   "source": [
    "dist_homeowner = bias_table['homeowner'].value_counts()\n",
    "dist_homeowner.index\n",
    "dist_homeowner = dist_homeowner.rename({0: 'No', 1: 'Yes'})\n",
    "print(dist_homeowner)"
   ]
  },
  {
   "cell_type": "code",
   "execution_count": 40,
   "id": "e4a32988",
   "metadata": {},
   "outputs": [
    {
     "data": {
      "text/plain": [
       "array([2311,   39,   37,    3])"
      ]
     },
     "execution_count": 40,
     "metadata": {},
     "output_type": "execute_result"
    }
   ],
   "source": [
    "dist_age.values"
   ]
  },
  {
   "cell_type": "code",
   "execution_count": 43,
   "id": "0fef3110",
   "metadata": {},
   "outputs": [
    {
     "data": {
      "image/png": "[encoded data removed]",
      "text/plain": [
       "<Figure size 432x288 with 1 Axes>"
      ]
     },
     "metadata": {},
     "output_type": "display_data"
    },
    {
     "data": {
      "text/plain": [
       "<Figure size 432x288 with 0 Axes>"
      ]
     },
     "metadata": {},
     "output_type": "display_data"
    }
   ],
   "source": [
    "dist_age.sort_index()\n",
    "plt.style.use('fivethirtyeight')\n",
    "ax = dist_age.plot(kind='barh')\n",
    "plt.title('Distribution of Users by Age Range', fontsize=15)\n",
    "plt.ylabel('Age Ranges', fontsize=12)\n",
    "plt.xlabel('Number of Users', fontsize=12)\n",
    "plt.show()\n",
    "plt.savefig('dist_users_age.jpg')"
   ]
  },
  {
   "cell_type": "code",
   "execution_count": 44,
   "id": "21db09ac",
   "metadata": {},
   "outputs": [
    {
     "data": {
      "image/png": "[encoded data removed]",
      "text/plain": [
       "<Figure size 432x288 with 1 Axes>"
      ]
     },
     "metadata": {},
     "output_type": "display_data"
    },
    {
     "data": {
      "text/plain": [
       "<Figure size 432x288 with 0 Axes>"
      ]
     },
     "metadata": {},
     "output_type": "display_data"
    }
   ],
   "source": [
    "dist_gender.sort_index()\n",
    "plt.style.use('ggplot')\n",
    "dist_gender.plot(kind='barh')\n",
    "plt.title('Distribution of Users by Gender ', fontsize=15)\n",
    "plt.ylabel('Gender')\n",
    "plt.xlabel('Number of Users')\n",
    "plt.show()\n",
    "plt.savefig('dist_users_gender.jpg')"
   ]
  },
  {
   "cell_type": "code",
   "execution_count": 45,
   "id": "8ca078b9",
   "metadata": {},
   "outputs": [
    {
     "data": {
      "image/png": "[encoded data removed]",
      "text/plain": [
       "<Figure size 432x288 with 1 Axes>"
      ]
     },
     "metadata": {},
     "output_type": "display_data"
    },
    {
     "data": {
      "text/plain": [
       "<Figure size 432x288 with 0 Axes>"
      ]
     },
     "metadata": {},
     "output_type": "display_data"
    }
   ],
   "source": [
    "dist_college.sort_index()\n",
    "plt.style.use('dark_background')\n",
    "dist_college.plot(kind='barh')\n",
    "plt.title('Distribution of Users by Level of Education', fontsize=15)\n",
    "plt.ylabel('College-Educated')\n",
    "plt.xlabel('Number of Users')\n",
    "plt.show()\n",
    "plt.savefig('dist_users_college.jpg')"
   ]
  },
  {
   "cell_type": "code",
   "execution_count": 54,
   "id": "0588ecd6",
   "metadata": {},
   "outputs": [
    {
     "data": {
      "image/png": "[encoded data removed]",
      "text/plain": [
       "<Figure size 432x288 with 1 Axes>"
      ]
     },
     "metadata": {},
     "output_type": "display_data"
    },
    {
     "data": {
      "text/plain": [
       "<Figure size 432x288 with 0 Axes>"
      ]
     },
     "metadata": {},
     "output_type": "display_data"
    }
   ],
   "source": [
    "dist_income.sort_index()\n",
    "plt.style.use('grayscale')\n",
    "dist_income.plot(kind='barh')\n",
    "plt.title('Distribution of Users by Income', fontsize=15)\n",
    "plt.ylabel('Income Range')\n",
    "plt.xlabel('Number of Users')\n",
    "plt.show()\n",
    "plt.savefig('dist_users_income.jpg')"
   ]
  },
  {
   "cell_type": "code",
   "execution_count": 55,
   "id": "2842368c",
   "metadata": {},
   "outputs": [
    {
     "data": {
      "image/png": "[encoded data removed]",
      "text/plain": [
       "<Figure size 432x288 with 1 Axes>"
      ]
     },
     "metadata": {},
     "output_type": "display_data"
    },
    {
     "data": {
      "text/plain": [
       "<Figure size 432x288 with 0 Axes>"
      ]
     },
     "metadata": {},
     "output_type": "display_data"
    }
   ],
   "source": [
    "dist_homeowner.sort_index()\n",
    "plt.style.use('seaborn-whitegrid')\n",
    "dist_homeowner.plot(kind='barh')\n",
    "plt.title('Distribution of Users by Home Ownership', fontsize=15)\n",
    "plt.ylabel('Homeownership')\n",
    "plt.xlabel('Number of Users')\n",
    "plt.show()\n",
    "plt.savefig('dist_users_homeowner.jpg')"
   ]
  },
  {
   "cell_type": "code",
   "execution_count": null,
   "id": "c4256b5b",
   "metadata": {},
   "outputs": [],
   "source": []
  }
 ],
 "metadata": {
  "kernelspec": {
   "display_name": "Python 3 (ipykernel)",
   "language": "python",
   "name": "python3"
  },
  "language_info": {
   "codemirror_mode": {
    "name": "ipython",
    "version": 3
   },
   "file_extension": ".py",
   "mimetype": "text/x-python",
   "name": "python",
   "nbconvert_exporter": "python",
   "pygments_lexer": "ipython3",
   "version": "3.9.12"
  }
 },
 "nbformat": 4,
 "nbformat_minor": 5
}
