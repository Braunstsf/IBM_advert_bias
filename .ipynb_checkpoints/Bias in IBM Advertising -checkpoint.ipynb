{
 "cells": [
  {
   "cell_type": "code",
   "execution_count": null,
   "id": "ee890f6f",
   "metadata": {},
   "outputs": [],
   "source": []
  },
  {
   "cell_type": "markdown",
   "id": "1907dc75",
   "metadata": {},
   "source": [
    "# Bias in IBM Advertising"
   ]
  },
  {
   "cell_type": "markdown",
   "id": "e3d1c3a7",
   "metadata": {},
   "source": [
    "by Emily Do, Naila Hajiyeva, Jacob Salazar, and Ethan Wen"
   ]
  },
  {
   "cell_type": "markdown",
   "id": "4d25c1f8",
   "metadata": {},
   "source": [
    "This notebook is based on the synthetic dataset of user records created by **IBM** in order to find bias in advertising. The **AI Fairness 360 toolkit** was used in order to calculate the **predicted probability** and **conversion** from different feature attributes. The feature attributes that we kept from the inital dataset are **education status, homeownership, gender, age, and income** while the outcome variables were **true_conversion, predicted_conversion, and predicted_probability**. From the **1,443,140** records, we trimmed the dataset to **2390** records due to having too many null values in some feature attributes which led to these 5. For more information about the original dataset and the study, click [here](https://developer.ibm.com/exchanges/data/all/bias-in-advertising/). "
   ]
  },
  {
   "cell_type": "code",
   "execution_count": 1,
   "id": "445d26f9",
   "metadata": {},
   "outputs": [],
   "source": [
    "import pandas as pd\n",
    "import numpy as np \n",
    "import seaborn as sns \n",
    "import matplotlib.pyplot as plt \n",
    "bias_table = pd.read_csv(\"new_table.csv\")"
   ]
  },
  {
   "cell_type": "markdown",
   "id": "5b0e21a4",
   "metadata": {},
   "source": [
    "The original dataset can be found in the link above (it was too large to include in the repository). The **new_table.csv** is the result of removing feature attributes that are not mentioned above. new_table.csv contains 2464 records. "
   ]
  },
  {
   "cell_type": "code",
   "execution_count": 2,
   "id": "0b231c94",
   "metadata": {},
   "outputs": [
    {
     "name": "stdout",
     "output_type": "stream",
     "text": [
      "   college_educated  homeowner gender    age income  true_conversion  \\\n",
      "0                 1          1      F  55-64  <100K                0   \n",
      "1                 1          1      F  55-64  >100K                0   \n",
      "2                 1          1      F  55-64  <100K                0   \n",
      "3                 1          1      F  55-64  >100K                0   \n",
      "4                 1          1      F  55-64  <100K                0   \n",
      "\n",
      "   predicted_conversion  predicted_probability  \n",
      "0                     0               0.002120  \n",
      "1                     0               0.001710  \n",
      "2                     0               0.008420  \n",
      "3                     0               0.004488  \n",
      "4                     0               0.001874  \n"
     ]
    }
   ],
   "source": [
    "print(bias_table.head())"
   ]
  },
  {
   "cell_type": "code",
   "execution_count": 3,
   "id": "41f634e0",
   "metadata": {},
   "outputs": [
    {
     "name": "stdout",
     "output_type": "stream",
     "text": [
      "       college_educated    homeowner  true_conversion  predicted_conversion  \\\n",
      "count       2464.000000  2464.000000      2464.000000           2464.000000   \n",
      "mean           0.948052     0.860795         0.002435              0.001623   \n",
      "std            0.221967     0.346230         0.049296              0.040267   \n",
      "min            0.000000     0.000000         0.000000              0.000000   \n",
      "25%            1.000000     1.000000         0.000000              0.000000   \n",
      "50%            1.000000     1.000000         0.000000              0.000000   \n",
      "75%            1.000000     1.000000         0.000000              0.000000   \n",
      "max            1.000000     1.000000         1.000000              1.000000   \n",
      "\n",
      "       predicted_probability  \n",
      "count            2464.000000  \n",
      "mean                0.011783  \n",
      "std                 0.035328  \n",
      "min                 0.000041  \n",
      "25%                 0.001396  \n",
      "50%                 0.002297  \n",
      "75%                 0.005687  \n",
      "max                 0.664570  \n"
     ]
    }
   ],
   "source": [
    "print(bias_table.describe())"
   ]
  },
  {
   "cell_type": "code",
   "execution_count": 4,
   "id": "066ce3ea",
   "metadata": {},
   "outputs": [],
   "source": [
    "bias_table = bias_table[bias_table['age'] != \"Unknown\"]"
   ]
  },
  {
   "cell_type": "markdown",
   "id": "7ef60bda",
   "metadata": {},
   "source": [
    "We found out that \"Unknown\" was shown in the \"age\" column of some of the records which led us to subset those out. "
   ]
  },
  {
   "cell_type": "code",
   "execution_count": 5,
   "id": "2ae65bab",
   "metadata": {},
   "outputs": [
    {
     "data": {
      "text/plain": [
       "2390"
      ]
     },
     "execution_count": 5,
     "metadata": {},
     "output_type": "execute_result"
    }
   ],
   "source": [
    "len(bias_table)"
   ]
  },
  {
   "cell_type": "code",
   "execution_count": 6,
   "id": "b189800d",
   "metadata": {},
   "outputs": [],
   "source": [
    "bias_table.to_csv('removed_unknowns.csv', encoding='utf-8')"
   ]
  },
  {
   "cell_type": "markdown",
   "id": "1bde7526",
   "metadata": {},
   "source": [
    "We will be using **remove_unkowns.csv** for the remainder of this notebook as our main dataset. For further reference, college_educated, homeowner, gender, and income all have two values. college_educated: 0 = no college education, 1 = college educated; homeowner: 0 = doesn't own home, 1 = owns home; gender: M = Males, F = Females; and income: <100K = income is less than 100,000, >100K = income is more than 100,000. The age spans 4 categories: 18-24, 25-34, 45-54, 55-64. The true_conversion and predicted_conversion both have two values of 0 and 1 where as 0 represents not clicking on the ad while 1 represents a conversion(clicking on the ad). Predicted_probability is a decimal betwen 0 and 1 calculated by the AI Fairness 360 Toolkit. "
   ]
  },
  {
   "cell_type": "code",
   "execution_count": 7,
   "id": "eca5e827",
   "metadata": {},
   "outputs": [],
   "source": [
    "from sklearn.metrics import confusion_matrix"
   ]
  },
  {
   "cell_type": "code",
   "execution_count": 8,
   "id": "6dc84a9d",
   "metadata": {},
   "outputs": [
    {
     "data": {
      "text/plain": [
       "array([[2381,    3],\n",
       "       [   5,    1]])"
      ]
     },
     "execution_count": 8,
     "metadata": {},
     "output_type": "execute_result"
    }
   ],
   "source": [
    "confusion_matrix(bias_table['true_conversion'],bias_table['predicted_conversion'])"
   ]
  },
  {
   "cell_type": "markdown",
   "id": "4911d7cb",
   "metadata": {},
   "source": [
    "The top left corner is true positive, the top right is false positive, the bottom left is false negative, and the bottom right is true negative. "
   ]
  },
  {
   "cell_type": "markdown",
   "id": "44f762ff",
   "metadata": {},
   "source": [
    "The code below shows us trying to get a list of all the instances where \"predicted_conversion\" and \"true_conversion\" in the dataframe bias_table are not equal to each other. "
   ]
  },
  {
   "cell_type": "code",
   "execution_count": 9,
   "id": "f5d251ab",
   "metadata": {},
   "outputs": [],
   "source": [
    "df_false_positive = bias_table[(bias_table['predicted_conversion'] == 1)&(bias_table['true_conversion']==0)]\n",
    "df_false_negative = bias_table[(bias_table['predicted_conversion'] == 0)&(bias_table['true_conversion']==1)]\n"
   ]
  },
  {
   "cell_type": "code",
   "execution_count": 10,
   "id": "970832bb",
   "metadata": {},
   "outputs": [],
   "source": [
    "outliers = pd.concat([df_false_positive, df_false_negative])"
   ]
  },
  {
   "cell_type": "code",
   "execution_count": 11,
   "id": "ae3403e3",
   "metadata": {},
   "outputs": [
    {
     "name": "stdout",
     "output_type": "stream",
     "text": [
      "      college_educated  homeowner gender    age income  true_conversion  \\\n",
      "228                  1          0      F  55-64  >100K                0   \n",
      "759                  1          1      M  55-64  <100K                0   \n",
      "1080                 1          0      F  55-64  <100K                0   \n",
      "748                  1          1      M  55-64  <100K                1   \n",
      "1277                 1          0      M  55-64  >100K                1   \n",
      "1844                 1          0      M  55-64  <100K                1   \n",
      "2280                 1          1      F  55-64  >100K                1   \n",
      "2332                 1          0      F  55-64  <100K                1   \n",
      "\n",
      "      predicted_conversion  predicted_probability  \n",
      "228                      1               0.421186  \n",
      "759                      1               0.583358  \n",
      "1080                     1               0.365767  \n",
      "748                      0               0.006888  \n",
      "1277                     0               0.002424  \n",
      "1844                     0               0.006594  \n",
      "2280                     0               0.003530  \n",
      "2332                     0               0.003188  \n"
     ]
    }
   ],
   "source": [
    "print(outliers)"
   ]
  },
  {
   "cell_type": "code",
   "execution_count": 12,
   "id": "404586e0",
   "metadata": {},
   "outputs": [
    {
     "data": {
      "text/plain": [
       "8"
      ]
     },
     "execution_count": 12,
     "metadata": {},
     "output_type": "execute_result"
    }
   ],
   "source": [
    "len(outliers)"
   ]
  },
  {
   "cell_type": "markdown",
   "id": "5d6477ef",
   "metadata": {},
   "source": [
    "There are a total of 8 outliers from the false positives and false negatives. "
   ]
  },
  {
   "cell_type": "markdown",
   "id": "61652620",
   "metadata": {},
   "source": [
    "## Kernel Density Estimate for Predicted Probability and Predicted Conversion"
   ]
  },
  {
   "cell_type": "code",
   "execution_count": 13,
   "id": "f1ac7109",
   "metadata": {},
   "outputs": [],
   "source": [
    "predicted_converted = bias_table[bias_table['predicted_conversion'] == 1]\n",
    "predicted_nonconverted = bias_table[bias_table['predicted_conversion'] == 0]\n"
   ]
  },
  {
   "cell_type": "code",
   "execution_count": 14,
   "id": "4c480d5e",
   "metadata": {
    "scrolled": true
   },
   "outputs": [
    {
     "data": {
      "image/png": "[encoded data removed]",
      "text/plain": [
       "<Figure size 432x288 with 1 Axes>"
      ]
     },
     "metadata": {
      "needs_background": "light"
     },
     "output_type": "display_data"
    }
   ],
   "source": [
    "prediction_prob_convert = list(predicted_converted['predicted_probability'])\n",
    "ax = sns.kdeplot(data=prediction_prob_convert, color=\"blue\")\n",
    "ax.set(xlabel='Predicted Probability', ylabel='Density', title=\"Kernel Density Estimate Plot of Predicted Conversions\")\n",
    "plt.show()"
   ]
  },
  {
   "cell_type": "code",
   "execution_count": 15,
   "id": "0564025a",
   "metadata": {},
   "outputs": [
    {
     "data": {
      "text/html": [
       "<div>\n",
       "<style scoped>\n",
       "    .dataframe tbody tr th:only-of-type {\n",
       "        vertical-align: middle;\n",
       "    }\n",
       "\n",
       "    .dataframe tbody tr th {\n",
       "        vertical-align: top;\n",
       "    }\n",
       "\n",
       "    .dataframe thead th {\n",
       "        text-align: right;\n",
       "    }\n",
       "</style>\n",
       "<table border=\"1\" class=\"dataframe\">\n",
       "  <thead>\n",
       "    <tr style=\"text-align: right;\">\n",
       "      <th></th>\n",
       "      <th>college_educated</th>\n",
       "      <th>homeowner</th>\n",
       "      <th>true_conversion</th>\n",
       "      <th>predicted_conversion</th>\n",
       "      <th>predicted_probability</th>\n",
       "    </tr>\n",
       "  </thead>\n",
       "  <tbody>\n",
       "    <tr>\n",
       "      <th>count</th>\n",
       "      <td>4.0</td>\n",
       "      <td>4.00000</td>\n",
       "      <td>4.00</td>\n",
       "      <td>4.0</td>\n",
       "      <td>4.000000</td>\n",
       "    </tr>\n",
       "    <tr>\n",
       "      <th>mean</th>\n",
       "      <td>1.0</td>\n",
       "      <td>0.50000</td>\n",
       "      <td>0.25</td>\n",
       "      <td>1.0</td>\n",
       "      <td>0.508721</td>\n",
       "    </tr>\n",
       "    <tr>\n",
       "      <th>std</th>\n",
       "      <td>0.0</td>\n",
       "      <td>0.57735</td>\n",
       "      <td>0.50</td>\n",
       "      <td>0.0</td>\n",
       "      <td>0.138994</td>\n",
       "    </tr>\n",
       "    <tr>\n",
       "      <th>min</th>\n",
       "      <td>1.0</td>\n",
       "      <td>0.00000</td>\n",
       "      <td>0.00</td>\n",
       "      <td>1.0</td>\n",
       "      <td>0.365767</td>\n",
       "    </tr>\n",
       "    <tr>\n",
       "      <th>25%</th>\n",
       "      <td>1.0</td>\n",
       "      <td>0.00000</td>\n",
       "      <td>0.00</td>\n",
       "      <td>1.0</td>\n",
       "      <td>0.407332</td>\n",
       "    </tr>\n",
       "    <tr>\n",
       "      <th>50%</th>\n",
       "      <td>1.0</td>\n",
       "      <td>0.50000</td>\n",
       "      <td>0.00</td>\n",
       "      <td>1.0</td>\n",
       "      <td>0.502272</td>\n",
       "    </tr>\n",
       "    <tr>\n",
       "      <th>75%</th>\n",
       "      <td>1.0</td>\n",
       "      <td>1.00000</td>\n",
       "      <td>0.25</td>\n",
       "      <td>1.0</td>\n",
       "      <td>0.603661</td>\n",
       "    </tr>\n",
       "    <tr>\n",
       "      <th>max</th>\n",
       "      <td>1.0</td>\n",
       "      <td>1.00000</td>\n",
       "      <td>1.00</td>\n",
       "      <td>1.0</td>\n",
       "      <td>0.664570</td>\n",
       "    </tr>\n",
       "  </tbody>\n",
       "</table>\n",
       "</div>"
      ],
      "text/plain": [
       "       college_educated  homeowner  true_conversion  predicted_conversion  \\\n",
       "count               4.0    4.00000             4.00                   4.0   \n",
       "mean                1.0    0.50000             0.25                   1.0   \n",
       "std                 0.0    0.57735             0.50                   0.0   \n",
       "min                 1.0    0.00000             0.00                   1.0   \n",
       "25%                 1.0    0.00000             0.00                   1.0   \n",
       "50%                 1.0    0.50000             0.00                   1.0   \n",
       "75%                 1.0    1.00000             0.25                   1.0   \n",
       "max                 1.0    1.00000             1.00                   1.0   \n",
       "\n",
       "       predicted_probability  \n",
       "count               4.000000  \n",
       "mean                0.508721  \n",
       "std                 0.138994  \n",
       "min                 0.365767  \n",
       "25%                 0.407332  \n",
       "50%                 0.502272  \n",
       "75%                 0.603661  \n",
       "max                 0.664570  "
      ]
     },
     "execution_count": 15,
     "metadata": {},
     "output_type": "execute_result"
    }
   ],
   "source": [
    "predicted_converted.describe()"
   ]
  },
  {
   "cell_type": "code",
   "execution_count": 16,
   "id": "3a9d8ae6",
   "metadata": {},
   "outputs": [
    {
     "data": {
      "image/png": "[encoded data removed]",
      "text/plain": [
       "<Figure size 432x288 with 1 Axes>"
      ]
     },
     "metadata": {
      "needs_background": "light"
     },
     "output_type": "display_data"
    }
   ],
   "source": [
    "prediction_prob_nonconvert = list(predicted_nonconverted['predicted_probability'])\n",
    "ax = sns.kdeplot(data=prediction_prob_nonconvert, color=\"blue\")\n",
    "ax.set(xlabel='Predicted Probability', ylabel='Density', title=\"Kernel Density Estimate Plot of Predicted Non-Conversions\")\n",
    "plt.show()"
   ]
  },
  {
   "cell_type": "code",
   "execution_count": 17,
   "id": "7ffcc255",
   "metadata": {},
   "outputs": [
    {
     "data": {
      "text/html": [
       "<div>\n",
       "<style scoped>\n",
       "    .dataframe tbody tr th:only-of-type {\n",
       "        vertical-align: middle;\n",
       "    }\n",
       "\n",
       "    .dataframe tbody tr th {\n",
       "        vertical-align: top;\n",
       "    }\n",
       "\n",
       "    .dataframe thead th {\n",
       "        text-align: right;\n",
       "    }\n",
       "</style>\n",
       "<table border=\"1\" class=\"dataframe\">\n",
       "  <thead>\n",
       "    <tr style=\"text-align: right;\">\n",
       "      <th></th>\n",
       "      <th>college_educated</th>\n",
       "      <th>homeowner</th>\n",
       "      <th>true_conversion</th>\n",
       "      <th>predicted_conversion</th>\n",
       "      <th>predicted_probability</th>\n",
       "    </tr>\n",
       "  </thead>\n",
       "  <tbody>\n",
       "    <tr>\n",
       "      <th>count</th>\n",
       "      <td>2386.000000</td>\n",
       "      <td>2386.000000</td>\n",
       "      <td>2386.000000</td>\n",
       "      <td>2386.0</td>\n",
       "      <td>2386.000000</td>\n",
       "    </tr>\n",
       "    <tr>\n",
       "      <th>mean</th>\n",
       "      <td>0.948868</td>\n",
       "      <td>0.861693</td>\n",
       "      <td>0.002096</td>\n",
       "      <td>0.0</td>\n",
       "      <td>0.010942</td>\n",
       "    </tr>\n",
       "    <tr>\n",
       "      <th>std</th>\n",
       "      <td>0.220312</td>\n",
       "      <td>0.345294</td>\n",
       "      <td>0.045739</td>\n",
       "      <td>0.0</td>\n",
       "      <td>0.028672</td>\n",
       "    </tr>\n",
       "    <tr>\n",
       "      <th>min</th>\n",
       "      <td>0.000000</td>\n",
       "      <td>0.000000</td>\n",
       "      <td>0.000000</td>\n",
       "      <td>0.0</td>\n",
       "      <td>0.000067</td>\n",
       "    </tr>\n",
       "    <tr>\n",
       "      <th>25%</th>\n",
       "      <td>1.000000</td>\n",
       "      <td>1.000000</td>\n",
       "      <td>0.000000</td>\n",
       "      <td>0.0</td>\n",
       "      <td>0.001385</td>\n",
       "    </tr>\n",
       "    <tr>\n",
       "      <th>50%</th>\n",
       "      <td>1.000000</td>\n",
       "      <td>1.000000</td>\n",
       "      <td>0.000000</td>\n",
       "      <td>0.0</td>\n",
       "      <td>0.002295</td>\n",
       "    </tr>\n",
       "    <tr>\n",
       "      <th>75%</th>\n",
       "      <td>1.000000</td>\n",
       "      <td>1.000000</td>\n",
       "      <td>0.000000</td>\n",
       "      <td>0.0</td>\n",
       "      <td>0.005686</td>\n",
       "    </tr>\n",
       "    <tr>\n",
       "      <th>max</th>\n",
       "      <td>1.000000</td>\n",
       "      <td>1.000000</td>\n",
       "      <td>1.000000</td>\n",
       "      <td>0.0</td>\n",
       "      <td>0.352105</td>\n",
       "    </tr>\n",
       "  </tbody>\n",
       "</table>\n",
       "</div>"
      ],
      "text/plain": [
       "       college_educated    homeowner  true_conversion  predicted_conversion  \\\n",
       "count       2386.000000  2386.000000      2386.000000                2386.0   \n",
       "mean           0.948868     0.861693         0.002096                   0.0   \n",
       "std            0.220312     0.345294         0.045739                   0.0   \n",
       "min            0.000000     0.000000         0.000000                   0.0   \n",
       "25%            1.000000     1.000000         0.000000                   0.0   \n",
       "50%            1.000000     1.000000         0.000000                   0.0   \n",
       "75%            1.000000     1.000000         0.000000                   0.0   \n",
       "max            1.000000     1.000000         1.000000                   0.0   \n",
       "\n",
       "       predicted_probability  \n",
       "count            2386.000000  \n",
       "mean                0.010942  \n",
       "std                 0.028672  \n",
       "min                 0.000067  \n",
       "25%                 0.001385  \n",
       "50%                 0.002295  \n",
       "75%                 0.005686  \n",
       "max                 0.352105  "
      ]
     },
     "execution_count": 17,
     "metadata": {},
     "output_type": "execute_result"
    }
   ],
   "source": [
    "predicted_nonconverted.describe()"
   ]
  },
  {
   "cell_type": "markdown",
   "id": "3c7ac658",
   "metadata": {},
   "source": [
    "## Kernel Density Estimate for Predicted Probability and True Conversion"
   ]
  },
  {
   "cell_type": "code",
   "execution_count": 18,
   "id": "31c018a1",
   "metadata": {},
   "outputs": [
    {
     "data": {
      "text/plain": [
       "2384"
      ]
     },
     "execution_count": 18,
     "metadata": {},
     "output_type": "execute_result"
    }
   ],
   "source": [
    "true_converted = bias_table[bias_table['true_conversion'] == 1]\n",
    "true_nonconverted = bias_table[bias_table['true_conversion'] == 0]\n",
    "len(true_converted)\n",
    "len(true_nonconverted)"
   ]
  },
  {
   "cell_type": "code",
   "execution_count": 19,
   "id": "6bd32d91",
   "metadata": {},
   "outputs": [
    {
     "data": {
      "image/png": "[encoded data removed]",
      "text/plain": [
       "<Figure size 432x288 with 1 Axes>"
      ]
     },
     "metadata": {
      "needs_background": "light"
     },
     "output_type": "display_data"
    }
   ],
   "source": [
    "prediction_prob_trueconvert = list(true_converted['predicted_probability'])\n",
    "ax = sns.kdeplot(data=prediction_prob_trueconvert, color=\"blue\")\n",
    "ax.set(xlabel='Predicted Probability', ylabel='Density', title=\"Kernel Density Estimate Plot of True Conversions\")\n",
    "plt.show()"
   ]
  },
  {
   "cell_type": "code",
   "execution_count": 20,
   "id": "6d9d576d",
   "metadata": {},
   "outputs": [
    {
     "data": {
      "text/html": [
       "<div>\n",
       "<style scoped>\n",
       "    .dataframe tbody tr th:only-of-type {\n",
       "        vertical-align: middle;\n",
       "    }\n",
       "\n",
       "    .dataframe tbody tr th {\n",
       "        vertical-align: top;\n",
       "    }\n",
       "\n",
       "    .dataframe thead th {\n",
       "        text-align: right;\n",
       "    }\n",
       "</style>\n",
       "<table border=\"1\" class=\"dataframe\">\n",
       "  <thead>\n",
       "    <tr style=\"text-align: right;\">\n",
       "      <th></th>\n",
       "      <th>college_educated</th>\n",
       "      <th>homeowner</th>\n",
       "      <th>true_conversion</th>\n",
       "      <th>predicted_conversion</th>\n",
       "      <th>predicted_probability</th>\n",
       "    </tr>\n",
       "  </thead>\n",
       "  <tbody>\n",
       "    <tr>\n",
       "      <th>count</th>\n",
       "      <td>6.0</td>\n",
       "      <td>6.000000</td>\n",
       "      <td>6.0</td>\n",
       "      <td>6.000000</td>\n",
       "      <td>6.000000</td>\n",
       "    </tr>\n",
       "    <tr>\n",
       "      <th>mean</th>\n",
       "      <td>1.0</td>\n",
       "      <td>0.500000</td>\n",
       "      <td>1.0</td>\n",
       "      <td>0.166667</td>\n",
       "      <td>0.114532</td>\n",
       "    </tr>\n",
       "    <tr>\n",
       "      <th>std</th>\n",
       "      <td>0.0</td>\n",
       "      <td>0.547723</td>\n",
       "      <td>0.0</td>\n",
       "      <td>0.408248</td>\n",
       "      <td>0.269469</td>\n",
       "    </tr>\n",
       "    <tr>\n",
       "      <th>min</th>\n",
       "      <td>1.0</td>\n",
       "      <td>0.000000</td>\n",
       "      <td>1.0</td>\n",
       "      <td>0.000000</td>\n",
       "      <td>0.002424</td>\n",
       "    </tr>\n",
       "    <tr>\n",
       "      <th>25%</th>\n",
       "      <td>1.0</td>\n",
       "      <td>0.000000</td>\n",
       "      <td>1.0</td>\n",
       "      <td>0.000000</td>\n",
       "      <td>0.003273</td>\n",
       "    </tr>\n",
       "    <tr>\n",
       "      <th>50%</th>\n",
       "      <td>1.0</td>\n",
       "      <td>0.500000</td>\n",
       "      <td>1.0</td>\n",
       "      <td>0.000000</td>\n",
       "      <td>0.005062</td>\n",
       "    </tr>\n",
       "    <tr>\n",
       "      <th>75%</th>\n",
       "      <td>1.0</td>\n",
       "      <td>1.000000</td>\n",
       "      <td>1.0</td>\n",
       "      <td>0.000000</td>\n",
       "      <td>0.006814</td>\n",
       "    </tr>\n",
       "    <tr>\n",
       "      <th>max</th>\n",
       "      <td>1.0</td>\n",
       "      <td>1.000000</td>\n",
       "      <td>1.0</td>\n",
       "      <td>1.000000</td>\n",
       "      <td>0.664570</td>\n",
       "    </tr>\n",
       "  </tbody>\n",
       "</table>\n",
       "</div>"
      ],
      "text/plain": [
       "       college_educated  homeowner  true_conversion  predicted_conversion  \\\n",
       "count               6.0   6.000000              6.0              6.000000   \n",
       "mean                1.0   0.500000              1.0              0.166667   \n",
       "std                 0.0   0.547723              0.0              0.408248   \n",
       "min                 1.0   0.000000              1.0              0.000000   \n",
       "25%                 1.0   0.000000              1.0              0.000000   \n",
       "50%                 1.0   0.500000              1.0              0.000000   \n",
       "75%                 1.0   1.000000              1.0              0.000000   \n",
       "max                 1.0   1.000000              1.0              1.000000   \n",
       "\n",
       "       predicted_probability  \n",
       "count               6.000000  \n",
       "mean                0.114532  \n",
       "std                 0.269469  \n",
       "min                 0.002424  \n",
       "25%                 0.003273  \n",
       "50%                 0.005062  \n",
       "75%                 0.006814  \n",
       "max                 0.664570  "
      ]
     },
     "execution_count": 20,
     "metadata": {},
     "output_type": "execute_result"
    }
   ],
   "source": [
    "true_converted.describe()"
   ]
  },
  {
   "cell_type": "code",
   "execution_count": 21,
   "id": "9c78d99a",
   "metadata": {},
   "outputs": [
    {
     "data": {
      "image/png": "[encoded data removed]",
      "text/plain": [
       "<Figure size 432x288 with 1 Axes>"
      ]
     },
     "metadata": {
      "needs_background": "light"
     },
     "output_type": "display_data"
    }
   ],
   "source": [
    "prediction_prob_truenonconvert = list(true_nonconverted['predicted_probability'])\n",
    "ax = sns.kdeplot(data=prediction_prob_truenonconvert, color=\"blue\")\n",
    "ax.set(xlabel='Predicted Probability', ylabel='Density', title=\"Kernel Density Estimate Plot of True Non-Conversions\")\n",
    "plt.show()"
   ]
  },
  {
   "cell_type": "code",
   "execution_count": 22,
   "id": "4b557a03",
   "metadata": {},
   "outputs": [
    {
     "data": {
      "text/html": [
       "<div>\n",
       "<style scoped>\n",
       "    .dataframe tbody tr th:only-of-type {\n",
       "        vertical-align: middle;\n",
       "    }\n",
       "\n",
       "    .dataframe tbody tr th {\n",
       "        vertical-align: top;\n",
       "    }\n",
       "\n",
       "    .dataframe thead th {\n",
       "        text-align: right;\n",
       "    }\n",
       "</style>\n",
       "<table border=\"1\" class=\"dataframe\">\n",
       "  <thead>\n",
       "    <tr style=\"text-align: right;\">\n",
       "      <th></th>\n",
       "      <th>college_educated</th>\n",
       "      <th>homeowner</th>\n",
       "      <th>true_conversion</th>\n",
       "      <th>predicted_conversion</th>\n",
       "      <th>predicted_probability</th>\n",
       "    </tr>\n",
       "  </thead>\n",
       "  <tbody>\n",
       "    <tr>\n",
       "      <th>count</th>\n",
       "      <td>2384.000000</td>\n",
       "      <td>2384.000000</td>\n",
       "      <td>2384.0</td>\n",
       "      <td>2384.000000</td>\n",
       "      <td>2384.000000</td>\n",
       "    </tr>\n",
       "    <tr>\n",
       "      <th>mean</th>\n",
       "      <td>0.948826</td>\n",
       "      <td>0.861997</td>\n",
       "      <td>0.0</td>\n",
       "      <td>0.001258</td>\n",
       "      <td>0.011517</td>\n",
       "    </tr>\n",
       "    <tr>\n",
       "      <th>std</th>\n",
       "      <td>0.220400</td>\n",
       "      <td>0.344976</td>\n",
       "      <td>0.0</td>\n",
       "      <td>0.035459</td>\n",
       "      <td>0.032913</td>\n",
       "    </tr>\n",
       "    <tr>\n",
       "      <th>min</th>\n",
       "      <td>0.000000</td>\n",
       "      <td>0.000000</td>\n",
       "      <td>0.0</td>\n",
       "      <td>0.000000</td>\n",
       "      <td>0.000067</td>\n",
       "    </tr>\n",
       "    <tr>\n",
       "      <th>25%</th>\n",
       "      <td>1.000000</td>\n",
       "      <td>1.000000</td>\n",
       "      <td>0.0</td>\n",
       "      <td>0.000000</td>\n",
       "      <td>0.001384</td>\n",
       "    </tr>\n",
       "    <tr>\n",
       "      <th>50%</th>\n",
       "      <td>1.000000</td>\n",
       "      <td>1.000000</td>\n",
       "      <td>0.0</td>\n",
       "      <td>0.000000</td>\n",
       "      <td>0.002294</td>\n",
       "    </tr>\n",
       "    <tr>\n",
       "      <th>75%</th>\n",
       "      <td>1.000000</td>\n",
       "      <td>1.000000</td>\n",
       "      <td>0.0</td>\n",
       "      <td>0.000000</td>\n",
       "      <td>0.005688</td>\n",
       "    </tr>\n",
       "    <tr>\n",
       "      <th>max</th>\n",
       "      <td>1.000000</td>\n",
       "      <td>1.000000</td>\n",
       "      <td>0.0</td>\n",
       "      <td>1.000000</td>\n",
       "      <td>0.583358</td>\n",
       "    </tr>\n",
       "  </tbody>\n",
       "</table>\n",
       "</div>"
      ],
      "text/plain": [
       "       college_educated    homeowner  true_conversion  predicted_conversion  \\\n",
       "count       2384.000000  2384.000000           2384.0           2384.000000   \n",
       "mean           0.948826     0.861997              0.0              0.001258   \n",
       "std            0.220400     0.344976              0.0              0.035459   \n",
       "min            0.000000     0.000000              0.0              0.000000   \n",
       "25%            1.000000     1.000000              0.0              0.000000   \n",
       "50%            1.000000     1.000000              0.0              0.000000   \n",
       "75%            1.000000     1.000000              0.0              0.000000   \n",
       "max            1.000000     1.000000              0.0              1.000000   \n",
       "\n",
       "       predicted_probability  \n",
       "count            2384.000000  \n",
       "mean                0.011517  \n",
       "std                 0.032913  \n",
       "min                 0.000067  \n",
       "25%                 0.001384  \n",
       "50%                 0.002294  \n",
       "75%                 0.005688  \n",
       "max                 0.583358  "
      ]
     },
     "execution_count": 22,
     "metadata": {},
     "output_type": "execute_result"
    }
   ],
   "source": [
    "true_nonconverted.describe()"
   ]
  },
  {
   "cell_type": "markdown",
   "id": "38816d12",
   "metadata": {},
   "source": [
    "## Feature Importance"
   ]
  },
  {
   "cell_type": "code",
   "execution_count": 23,
   "id": "1864e017",
   "metadata": {},
   "outputs": [
    {
     "data": {
      "text/plain": [
       "pandas.core.frame.DataFrame"
      ]
     },
     "execution_count": 23,
     "metadata": {},
     "output_type": "execute_result"
    }
   ],
   "source": [
    "type(bias_table)"
   ]
  },
  {
   "cell_type": "markdown",
   "id": "82bc0cfa",
   "metadata": {},
   "source": [
    "For feature importance, we used a tool originally used for random forest models on a Boston forest dataset. For more information, please click [here](https://towardsdatascience.com/understanding-feature-importance-and-how-to-implement-it-in-python-ff0287b20285). "
   ]
  },
  {
   "cell_type": "markdown",
   "id": "b062d021",
   "metadata": {},
   "source": [
    " .dtype()"
   ]
  },
  {
   "cell_type": "markdown",
   "id": "f9138b64",
   "metadata": {},
   "source": [
    "ValueError was raised due to multiple data formats in bias_table. "
   ]
  },
  {
   "cell_type": "markdown",
   "id": "30b700f4",
   "metadata": {},
   "source": [
    "rf = RandomForestRegressor(n_estimators=150)\n",
    "rf.fit(advert_data_train, predicted_prob_train)"
   ]
  },
  {
   "cell_type": "code",
   "execution_count": 24,
   "id": "0412a0fb",
   "metadata": {},
   "outputs": [
    {
     "data": {
      "text/plain": [
       "college_educated           int64\n",
       "homeowner                  int64\n",
       "gender                    object\n",
       "age                       object\n",
       "income                    object\n",
       "true_conversion            int64\n",
       "predicted_conversion       int64\n",
       "predicted_probability    float64\n",
       "dtype: object"
      ]
     },
     "execution_count": 24,
     "metadata": {},
     "output_type": "execute_result"
    }
   ],
   "source": [
    "bias_table.dtypes"
   ]
  },
  {
   "cell_type": "code",
   "execution_count": 25,
   "id": "2e4f8085",
   "metadata": {},
   "outputs": [
    {
     "data": {
      "text/plain": [
       "55-64    2311\n",
       "45-54      39\n",
       "25-34      37\n",
       "18-24       3\n",
       "Name: age, dtype: int64"
      ]
     },
     "execution_count": 25,
     "metadata": {},
     "output_type": "execute_result"
    }
   ],
   "source": [
    "bias_table['age'].value_counts()"
   ]
  },
  {
   "cell_type": "code",
   "execution_count": 26,
   "id": "682bc487",
   "metadata": {},
   "outputs": [
    {
     "data": {
      "text/plain": [
       "<100K    1215\n",
       ">100K    1175\n",
       "Name: income, dtype: int64"
      ]
     },
     "execution_count": 26,
     "metadata": {},
     "output_type": "execute_result"
    }
   ],
   "source": [
    "bias_table['income'].value_counts()"
   ]
  },
  {
   "cell_type": "code",
   "execution_count": 27,
   "id": "cda725b1",
   "metadata": {},
   "outputs": [
    {
     "data": {
      "text/plain": [
       "F    1552\n",
       "M     838\n",
       "Name: gender, dtype: int64"
      ]
     },
     "execution_count": 27,
     "metadata": {},
     "output_type": "execute_result"
    }
   ],
   "source": [
    "bias_table['gender'].value_counts()"
   ]
  },
  {
   "cell_type": "markdown",
   "id": "917391b4",
   "metadata": {},
   "source": [
    "In order to move past the ValueError, we will be converting the objects in the columns: age, income, and gender, into the following integers. "
   ]
  },
  {
   "cell_type": "markdown",
   "id": "e4c0208d",
   "metadata": {},
   "source": [
    "For age, 0 will be assigned to 18-24, 1 to 25-34, 2 to 45-54, 3 to 55-64. \n",
    "\n",
    "For income, <100K will be assigned to 0 and >100K to 1.\n",
    "\n",
    "For gender, F will be assigned to 0 and M to 1. "
   ]
  },
  {
   "cell_type": "code",
   "execution_count": 28,
   "id": "00efbc4f",
   "metadata": {},
   "outputs": [],
   "source": [
    "bias_table['age'] = bias_table['age'].replace(['18-24', '25-34', '45-54', '55-64'], [0, 1, 2, 3])"
   ]
  },
  {
   "cell_type": "code",
   "execution_count": 29,
   "id": "37d37c5e",
   "metadata": {},
   "outputs": [
    {
     "data": {
      "text/plain": [
       "college_educated           int64\n",
       "homeowner                  int64\n",
       "gender                    object\n",
       "age                        int64\n",
       "income                    object\n",
       "true_conversion            int64\n",
       "predicted_conversion       int64\n",
       "predicted_probability    float64\n",
       "dtype: object"
      ]
     },
     "execution_count": 29,
     "metadata": {},
     "output_type": "execute_result"
    }
   ],
   "source": [
    "bias_table.dtypes"
   ]
  },
  {
   "cell_type": "code",
   "execution_count": 30,
   "id": "bcf9b625",
   "metadata": {},
   "outputs": [],
   "source": [
    "bias_table['gender'] = bias_table['gender'].replace(['F', 'M'], [0, 1])"
   ]
  },
  {
   "cell_type": "code",
   "execution_count": 31,
   "id": "2e0894e5",
   "metadata": {},
   "outputs": [],
   "source": [
    "bias_table['income'] = bias_table['income'].replace(['<100K', '>100K'], [0, 1])"
   ]
  },
  {
   "cell_type": "code",
   "execution_count": 32,
   "id": "ddfffd79",
   "metadata": {},
   "outputs": [
    {
     "data": {
      "text/html": [
       "<div>\n",
       "<style scoped>\n",
       "    .dataframe tbody tr th:only-of-type {\n",
       "        vertical-align: middle;\n",
       "    }\n",
       "\n",
       "    .dataframe tbody tr th {\n",
       "        vertical-align: top;\n",
       "    }\n",
       "\n",
       "    .dataframe thead th {\n",
       "        text-align: right;\n",
       "    }\n",
       "</style>\n",
       "<table border=\"1\" class=\"dataframe\">\n",
       "  <thead>\n",
       "    <tr style=\"text-align: right;\">\n",
       "      <th></th>\n",
       "      <th>college_educated</th>\n",
       "      <th>homeowner</th>\n",
       "      <th>gender</th>\n",
       "      <th>age</th>\n",
       "      <th>income</th>\n",
       "      <th>true_conversion</th>\n",
       "      <th>predicted_conversion</th>\n",
       "      <th>predicted_probability</th>\n",
       "    </tr>\n",
       "  </thead>\n",
       "  <tbody>\n",
       "    <tr>\n",
       "      <th>0</th>\n",
       "      <td>1</td>\n",
       "      <td>1</td>\n",
       "      <td>0</td>\n",
       "      <td>3</td>\n",
       "      <td>0</td>\n",
       "      <td>0</td>\n",
       "      <td>0</td>\n",
       "      <td>0.002120</td>\n",
       "    </tr>\n",
       "    <tr>\n",
       "      <th>1</th>\n",
       "      <td>1</td>\n",
       "      <td>1</td>\n",
       "      <td>0</td>\n",
       "      <td>3</td>\n",
       "      <td>1</td>\n",
       "      <td>0</td>\n",
       "      <td>0</td>\n",
       "      <td>0.001710</td>\n",
       "    </tr>\n",
       "    <tr>\n",
       "      <th>2</th>\n",
       "      <td>1</td>\n",
       "      <td>1</td>\n",
       "      <td>0</td>\n",
       "      <td>3</td>\n",
       "      <td>0</td>\n",
       "      <td>0</td>\n",
       "      <td>0</td>\n",
       "      <td>0.008420</td>\n",
       "    </tr>\n",
       "    <tr>\n",
       "      <th>3</th>\n",
       "      <td>1</td>\n",
       "      <td>1</td>\n",
       "      <td>0</td>\n",
       "      <td>3</td>\n",
       "      <td>1</td>\n",
       "      <td>0</td>\n",
       "      <td>0</td>\n",
       "      <td>0.004488</td>\n",
       "    </tr>\n",
       "    <tr>\n",
       "      <th>4</th>\n",
       "      <td>1</td>\n",
       "      <td>1</td>\n",
       "      <td>0</td>\n",
       "      <td>3</td>\n",
       "      <td>0</td>\n",
       "      <td>0</td>\n",
       "      <td>0</td>\n",
       "      <td>0.001874</td>\n",
       "    </tr>\n",
       "  </tbody>\n",
       "</table>\n",
       "</div>"
      ],
      "text/plain": [
       "   college_educated  homeowner  gender  age  income  true_conversion  \\\n",
       "0                 1          1       0    3       0                0   \n",
       "1                 1          1       0    3       1                0   \n",
       "2                 1          1       0    3       0                0   \n",
       "3                 1          1       0    3       1                0   \n",
       "4                 1          1       0    3       0                0   \n",
       "\n",
       "   predicted_conversion  predicted_probability  \n",
       "0                     0               0.002120  \n",
       "1                     0               0.001710  \n",
       "2                     0               0.008420  \n",
       "3                     0               0.004488  \n",
       "4                     0               0.001874  "
      ]
     },
     "execution_count": 32,
     "metadata": {},
     "output_type": "execute_result"
    }
   ],
   "source": [
    "bias_table.head()"
   ]
  },
  {
   "cell_type": "code",
   "execution_count": 33,
   "id": "fe05a3d9",
   "metadata": {},
   "outputs": [],
   "source": [
    "advert_data = bias_table.drop(['predicted_probability', 'predicted_conversion', 'true_conversion'], axis=1)\n",
    "predicted_prob = bias_table['predicted_probability']"
   ]
  },
  {
   "cell_type": "code",
   "execution_count": 34,
   "id": "18a5daf1",
   "metadata": {},
   "outputs": [],
   "source": [
    "#from sklearn.datasets import load_boston\n",
    "from sklearn.model_selection import train_test_split\n",
    "from sklearn.ensemble import RandomForestRegressor\n",
    "from sklearn.inspection import permutation_importance\n",
    "from matplotlib import pyplot as plt"
   ]
  },
  {
   "cell_type": "code",
   "execution_count": 35,
   "id": "22a81d7d",
   "metadata": {},
   "outputs": [],
   "source": [
    "advert_data_train, advert_data_test, predicted_prob_train, predicted_prob_test = train_test_split(advert_data, predicted_prob, test_size=0.25, random_state=np.random.seed())"
   ]
  },
  {
   "cell_type": "code",
   "execution_count": 36,
   "id": "453b9287",
   "metadata": {},
   "outputs": [],
   "source": [
    "rf = RandomForestRegressor(n_estimators=150)\n",
    "rf.fit(advert_data_train, predicted_prob_train)\n",
    "rf_pred=rf.predict(advert_data_test)"
   ]
  },
  {
   "cell_type": "code",
   "execution_count": 37,
   "id": "2c9e0442",
   "metadata": {},
   "outputs": [
    {
     "name": "stdout",
     "output_type": "stream",
     "text": [
      "For the Random Forest Model:\n",
      "Mean Squared Error: 0.042145\n",
      "Mean Absolute Error: 0.016786\n",
      "R2 - 'Goodness of fit': -0.019454\n"
     ]
    }
   ],
   "source": [
    "from sklearn import metrics\n",
    "print(\"For the Random Forest Model:\")\n",
    "print(\"Mean Squared Error: %f\" % (metrics.mean_squared_error(predicted_prob_test, rf_pred, squared=False)))\n",
    "print(\"Mean Absolute Error: %f\" % (metrics.mean_absolute_error(predicted_prob_test, rf_pred)))\n",
    "print(\"R2 - 'Goodness of fit': %f\" % (metrics.r2_score(predicted_prob_test, rf_pred)))"
   ]
  },
  {
   "cell_type": "code",
   "execution_count": 47,
   "id": "90203906",
   "metadata": {},
   "outputs": [
    {
     "data": {
      "image/png": "[encoded data removed]",
      "text/plain": [
       "<Figure size 432x288 with 1 Axes>"
      ]
     },
     "metadata": {},
     "output_type": "display_data"
    }
   ],
   "source": [
    "sort = rf.feature_importances_.argsort()\n",
    "fig, ax = plt.subplots()\n",
    "plt.barh(bias_table.columns[sort], rf.feature_importances_[sort],color='lightskyblue', edgecolor='blue')\n",
    "plt.xlabel(\"Relative Importance Score\")\n",
    "plt.title(\"Feature Importance\", fontsize = 15)\n",
    "percentages = rf.feature_importances_[sort].round(decimals = 4) * 100\n",
    "new_labels = [i+'  {:.2f}%'.format(j) for i, j in zip(bias_table.columns[sort], percentages)]\n",
    "plt.yticks(range(len(bias_table.columns[sort])), new_labels)\n",
    "\n",
    "for spine in ax.spines.values():\n",
    "    spine.set_visible(True)\n",
    "\n",
    "ax.axes.get_xaxis().set_visible(True)\n",
    "ax.tick_params(axis=\"y\", left=True)\n",
    "plt.show()"
   ]
  },
  {
   "cell_type": "markdown",
   "id": "e1441136",
   "metadata": {},
   "source": [
    "## Showing Distributions for Age, Gender, College Educated, Income, and Home Ownership"
   ]
  },
  {
   "cell_type": "code",
   "execution_count": 39,
   "id": "86c85b74",
   "metadata": {},
   "outputs": [
    {
     "data": {
      "text/plain": [
       "Int64Index([3, 2, 1, 0], dtype='int64')"
      ]
     },
     "execution_count": 39,
     "metadata": {},
     "output_type": "execute_result"
    }
   ],
   "source": [
    "dist_age = bias_table['age'].value_counts()\n",
    "dist_age.index"
   ]
  },
  {
   "cell_type": "code",
   "execution_count": 40,
   "id": "d6119277",
   "metadata": {},
   "outputs": [
    {
     "name": "stdout",
     "output_type": "stream",
     "text": [
      "55-64    2311\n",
      "45-54      39\n",
      "25-34      37\n",
      "18-24       3\n",
      "Name: age, dtype: int64\n"
     ]
    }
   ],
   "source": [
    "dist_age = dist_age.rename({0: '18-24', 1: '25-34', 2: '45-54', 3: '55-64'})\n",
    "print(dist_age)"
   ]
  },
  {
   "cell_type": "code",
   "execution_count": 41,
   "id": "321f3bc1",
   "metadata": {},
   "outputs": [
    {
     "name": "stdout",
     "output_type": "stream",
     "text": [
      "Females    1552\n",
      "Males       838\n",
      "Name: gender, dtype: int64\n"
     ]
    }
   ],
   "source": [
    "dist_gender = bias_table['gender'].value_counts()\n",
    "dist_gender.index\n",
    "dist_gender = dist_gender.rename({0: 'Females', 1: 'Males'})\n",
    "print(dist_gender)"
   ]
  },
  {
   "cell_type": "code",
   "execution_count": 42,
   "id": "b99671e8",
   "metadata": {},
   "outputs": [
    {
     "name": "stdout",
     "output_type": "stream",
     "text": [
      "Yes    2268\n",
      "No      122\n",
      "Name: college_educated, dtype: int64\n"
     ]
    }
   ],
   "source": [
    "dist_college = bias_table['college_educated'].value_counts()\n",
    "dist_college.index\n",
    "dist_college = dist_college.rename({0: 'No', 1: 'Yes'})\n",
    "print(dist_college)"
   ]
  },
  {
   "cell_type": "code",
   "execution_count": 43,
   "id": "f063d1c2",
   "metadata": {},
   "outputs": [
    {
     "name": "stdout",
     "output_type": "stream",
     "text": [
      "Under 100K    1215\n",
      "Over 100K     1175\n",
      "Name: income, dtype: int64\n"
     ]
    }
   ],
   "source": [
    "dist_income = bias_table['income'].value_counts()\n",
    "dist_income.index\n",
    "dist_income = dist_income.rename({0: 'Under 100K', 1: 'Over 100K'})\n",
    "print(dist_income)"
   ]
  },
  {
   "cell_type": "code",
   "execution_count": 44,
   "id": "5fb1b7ea",
   "metadata": {},
   "outputs": [
    {
     "name": "stdout",
     "output_type": "stream",
     "text": [
      "Yes    2058\n",
      "No      332\n",
      "Name: homeowner, dtype: int64\n"
     ]
    }
   ],
   "source": [
    "dist_homeowner = bias_table['homeowner'].value_counts()\n",
    "dist_homeowner.index\n",
    "dist_homeowner = dist_homeowner.rename({0: 'No', 1: 'Yes'})\n",
    "print(dist_homeowner)"
   ]
  },
  {
   "cell_type": "code",
   "execution_count": 45,
   "id": "e4a32988",
   "metadata": {},
   "outputs": [
    {
     "data": {
      "text/plain": [
       "array([2311,   39,   37,    3])"
      ]
     },
     "execution_count": 45,
     "metadata": {},
     "output_type": "execute_result"
    }
   ],
   "source": [
    "dist_age.values"
   ]
  },
  {
   "cell_type": "code",
   "execution_count": 46,
   "id": "0fef3110",
   "metadata": {},
   "outputs": [
    {
     "data": {
      "image/png": "[encoded data removed]",
      "text/plain": [
       "<Figure size 432x288 with 1 Axes>"
      ]
     },
     "metadata": {},
     "output_type": "display_data"
    },
    {
     "ename": "NameError",
     "evalue": "name 'fig' is not defined",
     "output_type": "error",
     "traceback": [
      "\u001b[0;31m---------------------------------------------------------------------------\u001b[0m",
      "\u001b[0;31mNameError\u001b[0m                                 Traceback (most recent call last)",
      "Input \u001b[0;32mIn [46]\u001b[0m, in \u001b[0;36m<cell line: 13>\u001b[0;34m()\u001b[0m\n\u001b[1;32m      9\u001b[0m     ax\u001b[38;5;241m.\u001b[39mbar_label(c, label_type\u001b[38;5;241m=\u001b[39m\u001b[38;5;124m'\u001b[39m\u001b[38;5;124medge\u001b[39m\u001b[38;5;124m'\u001b[39m, labels\u001b[38;5;241m=\u001b[39m[\u001b[38;5;124mf\u001b[39m\u001b[38;5;124m'\u001b[39m\u001b[38;5;132;01m{\u001b[39;00mval\u001b[38;5;132;01m}\u001b[39;00m\u001b[38;5;130;01m\\n\u001b[39;00m\u001b[38;5;132;01m{\u001b[39;00mval \u001b[38;5;241m/\u001b[39m total \u001b[38;5;241m*\u001b[39m \u001b[38;5;241m100.0\u001b[39m\u001b[38;5;132;01m:\u001b[39;00m\u001b[38;5;124m.1f\u001b[39m\u001b[38;5;132;01m}\u001b[39;00m\u001b[38;5;124m %\u001b[39m\u001b[38;5;124m'\u001b[39m \u001b[38;5;28;01mfor\u001b[39;00m val \u001b[38;5;129;01min\u001b[39;00m dist_age])\n\u001b[1;32m     10\u001b[0m plt\u001b[38;5;241m.\u001b[39mshow()\n\u001b[0;32m---> 13\u001b[0m \u001b[43mfig\u001b[49m\u001b[38;5;241m.\u001b[39msavefig(\u001b[38;5;124m'\u001b[39m\u001b[38;5;124mdist_age.png\u001b[39m\u001b[38;5;124m'\u001b[39m)\n",
      "\u001b[0;31mNameError\u001b[0m: name 'fig' is not defined"
     ]
    }
   ],
   "source": [
    "dist_age.sort_index()\n",
    "plt.style.use('fivethirtyeight')\n",
    "ax = dist_age.plot(kind='barh')\n",
    "plt.title('Distribution of Users by Age Range', fontsize=15)\n",
    "plt.ylabel('Age Ranges', fontsize=12)\n",
    "plt.xlabel('Number of Users', fontsize=12)\n",
    "total = sum(dist_age)\n",
    "for c, col in zip(ax.containers, dist_age.index):\n",
    "    ax.bar_label(c, label_type='edge', labels=[f'{val}\\n{val / total * 100.0:.1f} %' for val in dist_age])\n",
    "plt.show()\n",
    "\n",
    "\n",
    "fig.savefig('dist_age.png')"
   ]
  },
  {
   "cell_type": "code",
   "execution_count": null,
   "id": "21db09ac",
   "metadata": {},
   "outputs": [],
   "source": [
    "dist_gender.sort_index()\n",
    "plt.style.use('ggplot')\n",
    "ax = dist_gender.plot(kind='barh')\n",
    "plt.title('Distribution of Users by Gender ', fontsize=15)\n",
    "plt.ylabel('Gender')\n",
    "plt.xlabel('Number of Users')\n",
    "for c, col in zip(ax.containers, dist_gender.index):\n",
    "    ax.bar_label(c, label_type='edge', labels=[f'{val}\\n{val / total * 100.0:.1f} %' for val in dist_gender])\n",
    "plt.show()\n",
    "fig.savefig('dist_gender.png')"
   ]
  },
  {
   "cell_type": "code",
   "execution_count": null,
   "id": "8ca078b9",
   "metadata": {},
   "outputs": [],
   "source": [
    "dist_college.sort_index()\n",
    "plt.style.use('dark_background')\n",
    "ax = dist_college.plot(kind='barh')\n",
    "plt.title('Distribution of Users by Level of Education', fontsize=15)\n",
    "plt.ylabel('College-Educated')\n",
    "plt.xlabel('Number of Users')\n",
    "for c, col in zip(ax.containers, dist_college.index):\n",
    "    ax.bar_label(c, label_type='edge', labels=[f'{val}\\n{val / total * 100.0:.1f} %' for val in dist_college])\n",
    "plt.show()\n",
    "fig.savefig('dist_college.png')"
   ]
  },
  {
   "cell_type": "code",
   "execution_count": null,
   "id": "0588ecd6",
   "metadata": {},
   "outputs": [],
   "source": [
    "dist_income.sort_index()\n",
    "plt.style.use('grayscale')\n",
    "ax = dist_income.plot(kind='barh')\n",
    "plt.title('Distribution of Users by Income', fontsize=15)\n",
    "plt.ylabel('Income Range')\n",
    "plt.xlabel('Number of Users')\n",
    "for c, col in zip(ax.containers, dist_income.index):\n",
    "    ax.bar_label(c, label_type='edge', labels=[f'{val}\\n{val / total * 100.0:.1f} %' for val in dist_income])\n",
    "plt.show()\n",
    "fig.savefig('dist_income.png')"
   ]
  },
  {
   "cell_type": "code",
   "execution_count": null,
   "id": "2842368c",
   "metadata": {},
   "outputs": [],
   "source": [
    "dist_homeowner.sort_index()\n",
    "plt.style.use('seaborn-whitegrid')\n",
    "ax = dist_homeowner.plot(kind='barh')\n",
    "plt.title('Distribution of Users by Home Ownership', fontsize=15)\n",
    "plt.ylabel('Homeownership')\n",
    "plt.xlabel('Number of Users')\n",
    "for c, col in zip(ax.containers, dist_homeowner.index):\n",
    "    ax.bar_label(c, label_type='edge', labels=[f'{val}\\n{val / total * 100.0:.1f} %' for val in dist_homeowner])\n",
    "plt.show()\n",
    "fig.savefig('dist_homeownership.png')"
   ]
  },
  {
   "cell_type": "code",
   "execution_count": null,
   "id": "c4256b5b",
   "metadata": {},
   "outputs": [],
   "source": []
  }
 ],
 "metadata": {
  "kernelspec": {
   "display_name": "Python 3 (ipykernel)",
   "language": "python",
   "name": "python3"
  },
  "language_info": {
   "codemirror_mode": {
    "name": "ipython",
    "version": 3
   },
   "file_extension": ".py",
   "mimetype": "text/x-python",
   "name": "python",
   "nbconvert_exporter": "python",
   "pygments_lexer": "ipython3",
   "version": "3.9.12"
  }
 },
 "nbformat": 4,
 "nbformat_minor": 5
}
