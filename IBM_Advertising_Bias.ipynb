{
 "cells": [
  {
   "cell_type": "markdown",
   "id": "1907dc75",
   "metadata": {},
   "source": [
    "# IBM Advertising Bias"
   ]
  },
  {
   "cell_type": "code",
   "execution_count": 1,
   "id": "445d26f9",
   "metadata": {},
   "outputs": [],
   "source": [
    "import pandas as pd\n",
    "import numpy as np \n",
    "import seaborn as sns \n",
    "import matplotlib.pyplot as plt \n",
    "bias_table = pd.read_csv(\"new_table.csv\")"
   ]
  },
  {
   "cell_type": "code",
   "execution_count": 2,
   "id": "0b231c94",
   "metadata": {},
   "outputs": [
    {
     "name": "stdout",
     "output_type": "stream",
     "text": [
      "   college_educated  homeowner gender    age income  true_conversion  \\\n",
      "0                 1          1      F  55-64  <100K                0   \n",
      "1                 1          1      F  55-64  >100K                0   \n",
      "2                 1          1      F  55-64  <100K                0   \n",
      "3                 1          1      F  55-64  >100K                0   \n",
      "4                 1          1      F  55-64  <100K                0   \n",
      "\n",
      "   predicted_conversion  predicted_probability  \n",
      "0                     0               0.002120  \n",
      "1                     0               0.001710  \n",
      "2                     0               0.008420  \n",
      "3                     0               0.004488  \n",
      "4                     0               0.001874  \n"
     ]
    }
   ],
   "source": [
    "print(bias_table.head())"
   ]
  },
  {
   "cell_type": "code",
   "execution_count": 3,
   "id": "066ce3ea",
   "metadata": {},
   "outputs": [],
   "source": [
    "bias_table = bias_table[bias_table['age'] != \"Unknown\"]"
   ]
  },
  {
   "cell_type": "code",
   "execution_count": 4,
   "id": "2ae65bab",
   "metadata": {},
   "outputs": [
    {
     "data": {
      "text/plain": [
       "2390"
      ]
     },
     "execution_count": 4,
     "metadata": {},
     "output_type": "execute_result"
    }
   ],
   "source": [
    "len(bias_table)"
   ]
  },
  {
   "cell_type": "code",
   "execution_count": 5,
   "id": "5f116f5b",
   "metadata": {},
   "outputs": [
    {
     "data": {
      "text/plain": [
       "2390"
      ]
     },
     "execution_count": 5,
     "metadata": {},
     "output_type": "execute_result"
    }
   ],
   "source": [
    "type(bias_table)\n",
    "len(bias_table)"
   ]
  },
  {
   "cell_type": "code",
   "execution_count": 6,
   "id": "b189800d",
   "metadata": {},
   "outputs": [],
   "source": [
    "bias_table.to_csv('removed_unknowns.csv', encoding='utf-8')"
   ]
  },
  {
   "cell_type": "code",
   "execution_count": 7,
   "id": "eca5e827",
   "metadata": {},
   "outputs": [],
   "source": [
    "from sklearn.metrics import confusion_matrix"
   ]
  },
  {
   "cell_type": "code",
   "execution_count": 8,
   "id": "6dc84a9d",
   "metadata": {},
   "outputs": [
    {
     "data": {
      "text/plain": [
       "array([[2381,    3],\n",
       "       [   5,    1]])"
      ]
     },
     "execution_count": 8,
     "metadata": {},
     "output_type": "execute_result"
    }
   ],
   "source": [
    "confusion_matrix(bias_table['true_conversion'],bias_table['predicted_conversion'])"
   ]
  },
  {
   "cell_type": "markdown",
   "id": "4911d7cb",
   "metadata": {},
   "source": [
    "The top row is true positive, false positive and the bottom is false negative, true negative. "
   ]
  },
  {
   "cell_type": "markdown",
   "id": "44f762ff",
   "metadata": {},
   "source": [
    "Trying to get a list of all the instances where \"predicted_conversion\" and \"true_conversion\" in the dataframe bias_table are not equal to each other. "
   ]
  },
  {
   "cell_type": "code",
   "execution_count": 15,
   "id": "f5d251ab",
   "metadata": {},
   "outputs": [
    {
     "name": "stdout",
     "output_type": "stream",
     "text": [
      "      college_educated  homeowner gender    age income  true_conversion  \\\n",
      "748                  1          1      M  55-64  <100K                1   \n",
      "1277                 1          0      M  55-64  >100K                1   \n",
      "1844                 1          0      M  55-64  <100K                1   \n",
      "2280                 1          1      F  55-64  >100K                1   \n",
      "2332                 1          0      F  55-64  <100K                1   \n",
      "\n",
      "      predicted_conversion  predicted_probability  \n",
      "748                      0               0.006888  \n",
      "1277                     0               0.002424  \n",
      "1844                     0               0.006594  \n",
      "2280                     0               0.003530  \n",
      "2332                     0               0.003188  \n"
     ]
    }
   ],
   "source": [
    "df_false_positive = bias_table[(bias_table['predicted_conversion'] == 1)&(bias_table['true_conversion']==0)]\n",
    "df_false_negative = bias_table[(bias_table['predicted_conversion'] == 0)&(bias_table['true_conversion']==1)]\n"
   ]
  },
  {
   "cell_type": "code",
   "execution_count": 18,
   "id": "970832bb",
   "metadata": {},
   "outputs": [],
   "source": [
    "outliers = pd.concat([df_false_positive, df_false_negative])"
   ]
  },
  {
   "cell_type": "code",
   "execution_count": 19,
   "id": "ae3403e3",
   "metadata": {},
   "outputs": [
    {
     "name": "stdout",
     "output_type": "stream",
     "text": [
      "      college_educated  homeowner gender    age income  true_conversion  \\\n",
      "228                  1          0      F  55-64  >100K                0   \n",
      "759                  1          1      M  55-64  <100K                0   \n",
      "1080                 1          0      F  55-64  <100K                0   \n",
      "748                  1          1      M  55-64  <100K                1   \n",
      "1277                 1          0      M  55-64  >100K                1   \n",
      "1844                 1          0      M  55-64  <100K                1   \n",
      "2280                 1          1      F  55-64  >100K                1   \n",
      "2332                 1          0      F  55-64  <100K                1   \n",
      "\n",
      "      predicted_conversion  predicted_probability  \n",
      "228                      1               0.421186  \n",
      "759                      1               0.583358  \n",
      "1080                     1               0.365767  \n",
      "748                      0               0.006888  \n",
      "1277                     0               0.002424  \n",
      "1844                     0               0.006594  \n",
      "2280                     0               0.003530  \n",
      "2332                     0               0.003188  \n"
     ]
    }
   ],
   "source": [
    "print(outliers)"
   ]
  },
  {
   "cell_type": "code",
   "execution_count": 20,
   "id": "404586e0",
   "metadata": {},
   "outputs": [
    {
     "data": {
      "text/plain": [
       "8"
      ]
     },
     "execution_count": 20,
     "metadata": {},
     "output_type": "execute_result"
    }
   ],
   "source": [
    "len(outliers)"
   ]
  },
  {
   "cell_type": "code",
   "execution_count": null,
   "id": "c6e169e8",
   "metadata": {},
   "outputs": [],
   "source": []
  }
 ],
 "metadata": {
  "kernelspec": {
   "display_name": "Python 3 (ipykernel)",
   "language": "python",
   "name": "python3"
  },
  "language_info": {
   "codemirror_mode": {
    "name": "ipython",
    "version": 3
   },
   "file_extension": ".py",
   "mimetype": "text/x-python",
   "name": "python",
   "nbconvert_exporter": "python",
   "pygments_lexer": "ipython3",
   "version": "3.9.12"
  }
 },
 "nbformat": 4,
 "nbformat_minor": 5
}
